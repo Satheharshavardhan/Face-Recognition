{
 "cells": [
  {
   "cell_type": "code",
   "execution_count": null,
   "id": "9d0b80d6",
   "metadata": {},
   "outputs": [],
   "source": [
    "import os\n",
    "import shutil\n",
    "import random"
   ]
  },
  {
   "cell_type": "code",
   "execution_count": null,
   "id": "11385ca2",
   "metadata": {},
   "outputs": [],
   "source": [
    "def split_data_matching_names(data_dir, output_dir, train_ratio=0.7, test_ratio=0.15, val_ratio=0.15):\n",
    "    persons = ['Devashree', 'Harshu', 'Meenal']\n",
    "\n",
    "    for name in persons:\n",
    "        images_dir = os.path.join(data_dir, 'images', name)\n",
    "        labels_dir = os.path.join(data_dir, 'labels', name)\n",
    "\n",
    "        if not os.path.exists(images_dir) or not os.path.exists(labels_dir):\n",
    "            print(f\"Skipping {name}: Missing image or label folder\")\n",
    "            continue\n",
    "\n",
    "        image_files = sorted(os.listdir(images_dir))\n",
    "        label_files = sorted(os.listdir(labels_dir))\n",
    "\n",
    "        # Create subset folders for each person\n",
    "        for subset in ['train', 'test', 'valid']:\n",
    "            os.makedirs(os.path.join(output_dir, subset, 'images', name), exist_ok=True)\n",
    "            os.makedirs(os.path.join(output_dir, subset, 'labels', name), exist_ok=True)\n",
    "\n",
    "        # Match image-label pairs based on name\n",
    "        matching_pairs = []\n",
    "        for image_file in image_files:\n",
    "            base_name = os.path.splitext(image_file)[0]\n",
    "            label_file = base_name + '.json'\n",
    "            if label_file in label_files:\n",
    "                matching_pairs.append((image_file, label_file))\n",
    "\n",
    "        random.shuffle(matching_pairs)\n",
    "\n",
    "        total_pairs = len(matching_pairs)\n",
    "        train_split = int(total_pairs * train_ratio)\n",
    "        test_split = int(total_pairs * (train_ratio + test_ratio))\n",
    "\n",
    "        for i, (image_file, label_file) in enumerate(matching_pairs):\n",
    "            image_path = os.path.join(images_dir, image_file)\n",
    "            label_path = os.path.join(labels_dir, label_file)\n",
    "\n",
    "            if i < train_split:\n",
    "                subset = 'train'\n",
    "            elif i < test_split:\n",
    "                subset = 'test'\n",
    "            else:\n",
    "                subset = 'valid'\n",
    "\n",
    "            shutil.copy(image_path, os.path.join(output_dir, subset, 'images', name, image_file))\n",
    "            shutil.copy(label_path, os.path.join(output_dir, subset, 'labels', name, label_file))\n",
    "\n",
    "        print(f\"{name}: {total_pairs} matched files split into train/test/valid.\")"
   ]
  },
  {
   "cell_type": "code",
   "execution_count": null,
   "id": "0a11f48c",
   "metadata": {},
   "outputs": [],
   "source": [
    "data_dir = 'Dataset'\n",
    "output_dir = 'Split-Data'"
   ]
  },
  {
   "cell_type": "code",
   "execution_count": null,
   "id": "27bd33ba",
   "metadata": {},
   "outputs": [],
   "source": [
    "split_data_matching_names(data_dir, output_dir)\n",
    "print(\"Data split successfully (matching names)!\")"
   ]
  }
 ],
 "metadata": {
  "kernelspec": {
   "display_name": "Python 3",
   "language": "python",
   "name": "python3"
  },
  "language_info": {
   "codemirror_mode": {
    "name": "ipython",
    "version": 3
   },
   "file_extension": ".py",
   "mimetype": "text/x-python",
   "name": "python",
   "nbconvert_exporter": "python",
   "pygments_lexer": "ipython3",
   "version": "3.11.9"
  }
 },
 "nbformat": 4,
 "nbformat_minor": 5
}
